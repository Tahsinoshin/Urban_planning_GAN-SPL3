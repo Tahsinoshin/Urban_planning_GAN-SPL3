{
  "nbformat": 4,
  "nbformat_minor": 0,
  "metadata": {
    "colab": {
      "provenance": [],
      "mount_file_id": "1dETxc4cGUtD1eiE4Jby1qd5SMmeSE_B4",
      "authorship_tag": "ABX9TyPd/e6HPFYtrywXxMQ6bgPG",
      "include_colab_link": true
    },
    "kernelspec": {
      "name": "python3",
      "display_name": "Python 3"
    },
    "language_info": {
      "name": "python"
    }
  },
  "cells": [
    {
      "cell_type": "markdown",
      "metadata": {
        "id": "view-in-github",
        "colab_type": "text"
      },
      "source": [
        "<a href=\"https://colab.research.google.com/github/Tahsinoshin/Urban_planning_GAN-SPL3/blob/main/DatasetAugmentation.ipynb\" target=\"_parent\"><img src=\"https://colab.research.google.com/assets/colab-badge.svg\" alt=\"Open In Colab\"/></a>"
      ]
    },
    {
      "cell_type": "code",
      "source": [],
      "metadata": {
        "id": "rKtwyIne_mdo"
      },
      "execution_count": null,
      "outputs": []
    },
    {
      "cell_type": "code",
      "source": [
        "!pip install --upgrade pydrive google-api-python-client google-auth-httplib2 google-auth-oauthlib\n",
        "\n",
        "from pydrive.auth import GoogleAuth\n",
        "from pydrive.drive import GoogleDrive\n",
        "import os\n",
        "import zipfile\n",
        "from PIL import Image\n"
      ],
      "metadata": {
        "id": "w_BPW2CEHmuH"
      },
      "execution_count": null,
      "outputs": []
    },
    {
      "cell_type": "code",
      "source": [
        "gauth = GoogleAuth()\n",
        "gauth.LocalWebserverAuth()\n",
        "drive = GoogleDrive(gauth)\n",
        "\n",
        "# Replace 'Your Folder Name' with the name of the folder in Google Drive\n",
        "folder_name = 'Generated Images'\n",
        "\n",
        "# Find the folder ID of the folder in Google Drive\n",
        "file_list = drive.ListFile({'q': f\"'root' in parents and trashed=false and title='{folder_name}'\"}).GetList()\n",
        "if len(file_list) == 0:\n",
        "    print(f\"Folder '{folder_name}' not found in Google Drive.\")\n",
        "    exit(1)\n",
        "\n",
        "folder_id = file_list[0]['id']\n"
      ],
      "metadata": {
        "id": "D5dK3pIQH0PK"
      },
      "execution_count": null,
      "outputs": []
    },
    {
      "cell_type": "code",
      "source": [
        "from google.colab import drive\n",
        "drive.mount('/content/drive')\n"
      ],
      "metadata": {
        "colab": {
          "base_uri": "https://localhost:8080/"
        },
        "id": "UOV6mCJ3IvPZ",
        "outputId": "8ead3c02-91cd-43dd-d708-1569e4e60051"
      },
      "execution_count": null,
      "outputs": [
        {
          "output_type": "stream",
          "name": "stdout",
          "text": [
            "Drive already mounted at /content/drive; to attempt to forcibly remount, call drive.mount(\"/content/drive\", force_remount=True).\n"
          ]
        }
      ]
    },
    {
      "cell_type": "code",
      "source": [
        "import os\n",
        "import zipfile\n",
        "\n",
        "# Replace 'Your Parent Folder Name' with the name of the parent folder in your Google Drive\n",
        "parent_folder_name = 'SortedImages/GeneratedImages'\n",
        "\n",
        "# Set the parent folder path\n",
        "parent_folder_path = f'/content/drive/MyDrive/{parent_folder_name}'\n",
        "\n",
        "# Create a zip file for the renamed images\n",
        "zip_filename = '/content/renamed_images.zip'\n",
        "\n",
        "with zipfile.ZipFile(zip_filename, 'w', zipfile.ZIP_DEFLATED) as zipf:\n",
        "    for root, dirs, files in os.walk(parent_folder_path):\n",
        "        for file in files:\n",
        "            if file.lower().endswith(('.jpg', '.jpeg', '.png', '.gif')):\n",
        "                ext = os.path.splitext(file)[-1]\n",
        "                new_name = os.path.join(root, f'{os.path.basename(root)}_{file}')\n",
        "                os.rename(os.path.join(root, file), os.path.join(root, new_name))\n",
        "                zipf.write(os.path.join(root, new_name), os.path.relpath(os.path.join(root, new_name), parent_folder_path))\n",
        "\n",
        "print(f'Zipped files to {zip_filename}')\n"
      ],
      "metadata": {
        "colab": {
          "base_uri": "https://localhost:8080/"
        },
        "id": "2ofw-3vFJUUd",
        "outputId": "c4b067bd-935f-46f3-afaf-d47c17ad8093"
      },
      "execution_count": null,
      "outputs": [
        {
          "output_type": "stream",
          "name": "stdout",
          "text": [
            "Zipped files to /content/renamed_images.zip\n"
          ]
        }
      ]
    },
    {
      "cell_type": "code",
      "source": [
        "from google.colab import files\n",
        "\n",
        "files.download(zip_filename)\n"
      ],
      "metadata": {
        "colab": {
          "base_uri": "https://localhost:8080/",
          "height": 17
        },
        "id": "rxvPGHqnJujZ",
        "outputId": "41ddac79-7902-47ef-a43e-5dd01483d19a"
      },
      "execution_count": null,
      "outputs": [
        {
          "output_type": "display_data",
          "data": {
            "text/plain": [
              "<IPython.core.display.Javascript object>"
            ],
            "application/javascript": [
              "\n",
              "    async function download(id, filename, size) {\n",
              "      if (!google.colab.kernel.accessAllowed) {\n",
              "        return;\n",
              "      }\n",
              "      const div = document.createElement('div');\n",
              "      const label = document.createElement('label');\n",
              "      label.textContent = `Downloading \"${filename}\": `;\n",
              "      div.appendChild(label);\n",
              "      const progress = document.createElement('progress');\n",
              "      progress.max = size;\n",
              "      div.appendChild(progress);\n",
              "      document.body.appendChild(div);\n",
              "\n",
              "      const buffers = [];\n",
              "      let downloaded = 0;\n",
              "\n",
              "      const channel = await google.colab.kernel.comms.open(id);\n",
              "      // Send a message to notify the kernel that we're ready.\n",
              "      channel.send({})\n",
              "\n",
              "      for await (const message of channel.messages) {\n",
              "        // Send a message to notify the kernel that we're ready.\n",
              "        channel.send({})\n",
              "        if (message.buffers) {\n",
              "          for (const buffer of message.buffers) {\n",
              "            buffers.push(buffer);\n",
              "            downloaded += buffer.byteLength;\n",
              "            progress.value = downloaded;\n",
              "          }\n",
              "        }\n",
              "      }\n",
              "      const blob = new Blob(buffers, {type: 'application/binary'});\n",
              "      const a = document.createElement('a');\n",
              "      a.href = window.URL.createObjectURL(blob);\n",
              "      a.download = filename;\n",
              "      div.appendChild(a);\n",
              "      a.click();\n",
              "      div.remove();\n",
              "    }\n",
              "  "
            ]
          },
          "metadata": {}
        },
        {
          "output_type": "display_data",
          "data": {
            "text/plain": [
              "<IPython.core.display.Javascript object>"
            ],
            "application/javascript": [
              "download(\"download_ef8b153e-2f20-4332-a176-8a1eb4d2a9b1\", \"renamed_images.zip\", 91202393)"
            ]
          },
          "metadata": {}
        }
      ]
    },
    {
      "cell_type": "markdown",
      "source": [
        "# dataset augmentation"
      ],
      "metadata": {
        "id": "Dwjp6-xXthDF"
      }
    },
    {
      "cell_type": "code",
      "source": [
        "from google.colab import drive\n",
        "drive.mount('/content/drive')\n"
      ],
      "metadata": {
        "colab": {
          "base_uri": "https://localhost:8080/"
        },
        "id": "vH8KaZs9tqwY",
        "outputId": "92c5ee9c-3e93-41da-b076-741d18db42a6"
      },
      "execution_count": null,
      "outputs": [
        {
          "output_type": "stream",
          "name": "stdout",
          "text": [
            "Drive already mounted at /content/drive; to attempt to forcibly remount, call drive.mount(\"/content/drive\", force_remount=True).\n"
          ]
        }
      ]
    },
    {
      "cell_type": "code",
      "source": [
        "import numpy as np\n",
        "import tensorflow as tf\n",
        "from tensorflow.keras.preprocessing.image import ImageDataGenerator\n"
      ],
      "metadata": {
        "id": "NDYsR5Xe021c"
      },
      "execution_count": null,
      "outputs": []
    },
    {
      "cell_type": "code",
      "source": [
        "data_dir = '/content/drive/MyDrive/FilteredAndCombined'\n"
      ],
      "metadata": {
        "id": "ft_0T0Q65SBn"
      },
      "execution_count": null,
      "outputs": []
    },
    {
      "cell_type": "code",
      "source": [
        "import os\n",
        "import numpy as np\n",
        "from PIL import Image\n",
        "from tensorflow.keras.preprocessing.image import ImageDataGenerator\n",
        "\n",
        "# Set the path to the directory containing your images\n",
        "data_dir = '/content/drive/MyDrive/FilteredAndCombined'\n",
        "\n",
        "# Create an ImageDataGenerator for data augmentation\n",
        "datagen = ImageDataGenerator(\n",
        "    rotation_range=40,\n",
        "    width_shift_range=0.2,\n",
        "    height_shift_range=0.2,\n",
        "    shear_range=0.2,\n",
        "    zoom_range=0.2,\n",
        "    horizontal_flip=True,\n",
        "    fill_mode='nearest'\n",
        ")\n",
        "\n",
        "# Create a directory to save augmented images\n",
        "output_directory = '/content/augmented_images'\n",
        "os.makedirs(output_directory, exist_ok=True)\n",
        "\n",
        "# Generate augmented images and save them\n",
        "for filename in os.listdir(data_dir):\n",
        "    image_path = os.path.join(data_dir, filename)\n",
        "    image = Image.open(image_path)\n",
        "    image = np.array(image)\n",
        "    image = np.expand_dims(image, axis=0)\n",
        "\n",
        "    i = 0\n",
        "    for batch in datagen.flow(image, batch_size=1):\n",
        "        augmented_image = batch[0].astype('uint8')\n",
        "        augmented_image = Image.fromarray(augmented_image)\n",
        "        augmented_image.save(os.path.join(output_directory, f'augmented_{i}_{filename}'))\n",
        "        i += 1\n",
        "        if i >= 3:  # Create three augmented versions for each image\n",
        "            break\n"
      ],
      "metadata": {
        "id": "E-62G9vE5rZK"
      },
      "execution_count": null,
      "outputs": []
    },
    {
      "cell_type": "code",
      "source": [
        "import shutil\n",
        "\n",
        "shutil.make_archive('/content/generated_images', 'zip', output_directory)\n"
      ],
      "metadata": {
        "colab": {
          "base_uri": "https://localhost:8080/",
          "height": 35
        },
        "id": "Ag7gd_4R7c4r",
        "outputId": "04233b91-9db4-47a9-fca9-965094ebf949"
      },
      "execution_count": null,
      "outputs": [
        {
          "output_type": "execute_result",
          "data": {
            "text/plain": [
              "'/content/generated_images.zip'"
            ],
            "application/vnd.google.colaboratory.intrinsic+json": {
              "type": "string"
            }
          },
          "metadata": {},
          "execution_count": 37
        }
      ]
    },
    {
      "cell_type": "code",
      "source": [
        "from google.colab import files\n",
        "\n",
        "files.download('/content/generated_images.zip')\n"
      ],
      "metadata": {
        "colab": {
          "base_uri": "https://localhost:8080/",
          "height": 34
        },
        "id": "YrSjXPKn7hYV",
        "outputId": "676c3f9a-3eed-40c1-b74e-e2f475db4d65"
      },
      "execution_count": null,
      "outputs": [
        {
          "output_type": "display_data",
          "data": {
            "text/plain": [
              "<IPython.core.display.Javascript object>"
            ],
            "application/javascript": [
              "\n",
              "    async function download(id, filename, size) {\n",
              "      if (!google.colab.kernel.accessAllowed) {\n",
              "        return;\n",
              "      }\n",
              "      const div = document.createElement('div');\n",
              "      const label = document.createElement('label');\n",
              "      label.textContent = `Downloading \"${filename}\": `;\n",
              "      div.appendChild(label);\n",
              "      const progress = document.createElement('progress');\n",
              "      progress.max = size;\n",
              "      div.appendChild(progress);\n",
              "      document.body.appendChild(div);\n",
              "\n",
              "      const buffers = [];\n",
              "      let downloaded = 0;\n",
              "\n",
              "      const channel = await google.colab.kernel.comms.open(id);\n",
              "      // Send a message to notify the kernel that we're ready.\n",
              "      channel.send({})\n",
              "\n",
              "      for await (const message of channel.messages) {\n",
              "        // Send a message to notify the kernel that we're ready.\n",
              "        channel.send({})\n",
              "        if (message.buffers) {\n",
              "          for (const buffer of message.buffers) {\n",
              "            buffers.push(buffer);\n",
              "            downloaded += buffer.byteLength;\n",
              "            progress.value = downloaded;\n",
              "          }\n",
              "        }\n",
              "      }\n",
              "      const blob = new Blob(buffers, {type: 'application/binary'});\n",
              "      const a = document.createElement('a');\n",
              "      a.href = window.URL.createObjectURL(blob);\n",
              "      a.download = filename;\n",
              "      div.appendChild(a);\n",
              "      a.click();\n",
              "      div.remove();\n",
              "    }\n",
              "  "
            ]
          },
          "metadata": {}
        },
        {
          "output_type": "display_data",
          "data": {
            "text/plain": [
              "<IPython.core.display.Javascript object>"
            ],
            "application/javascript": [
              "download(\"download_258e813b-4f43-4f1f-9417-076626c145a9\", \"generated_images.zip\", 101547426)"
            ]
          },
          "metadata": {}
        }
      ]
    }
  ]
}