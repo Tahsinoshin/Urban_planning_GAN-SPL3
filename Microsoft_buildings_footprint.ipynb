{
  "nbformat": 4,
  "nbformat_minor": 0,
  "metadata": {
    "colab": {
      "provenance": [],
      "gpuType": "T4",
      "authorship_tag": "ABX9TyNK+iXIbYR1cGhMCqRUuQke",
      "include_colab_link": true
    },
    "kernelspec": {
      "name": "python3",
      "display_name": "Python 3"
    },
    "language_info": {
      "name": "python"
    },
    "accelerator": "GPU"
  },
  "cells": [
    {
      "cell_type": "markdown",
      "metadata": {
        "id": "view-in-github",
        "colab_type": "text"
      },
      "source": [
        "<a href=\"https://colab.research.google.com/github/Tahsinoshin/Urban_planning_with_LUCGAN-SPL3/blob/main/Microsoft_buildings_footprint.ipynb\" target=\"_parent\"><img src=\"https://colab.research.google.com/assets/colab-badge.svg\" alt=\"Open In Colab\"/></a>"
      ]
    },
    {
      "cell_type": "code",
      "execution_count": 1,
      "metadata": {
        "id": "fmw5CNoRQS13",
        "colab": {
          "base_uri": "https://localhost:8080/"
        },
        "outputId": "5a1d9f53-d6e2-4398-cd6f-2a32f6332bbe"
      },
      "outputs": [
        {
          "output_type": "stream",
          "name": "stdout",
          "text": [
            "Mounted at /content/drive\n"
          ]
        }
      ],
      "source": [
        "from google.colab import drive\n",
        "drive.mount('/content/drive')\n",
        "\n"
      ]
    },
    {
      "cell_type": "code",
      "source": [
        "!git clone https://github.com/microsoft/GlobalMLBuildingFootprints.git"
      ],
      "metadata": {
        "colab": {
          "base_uri": "https://localhost:8080/"
        },
        "id": "sYlQ8EHNT7qB",
        "outputId": "37789b8f-c8ca-496c-8a2a-ceea8c60618c"
      },
      "execution_count": 2,
      "outputs": [
        {
          "output_type": "stream",
          "name": "stdout",
          "text": [
            "Cloning into 'GlobalMLBuildingFootprints'...\n",
            "remote: Enumerating objects: 161, done.\u001b[K\n",
            "remote: Counting objects: 100% (39/39), done.\u001b[K\n",
            "remote: Compressing objects: 100% (29/29), done.\u001b[K\n",
            "remote: Total 161 (delta 20), reused 17 (delta 10), pack-reused 122\u001b[K\n",
            "Receiving objects: 100% (161/161), 23.90 MiB | 27.10 MiB/s, done.\n",
            "Resolving deltas: 100% (80/80), done.\n"
          ]
        }
      ]
    },
    {
      "cell_type": "code",
      "source": [
        "%cd GlobalMLBuildingFootprints"
      ],
      "metadata": {
        "colab": {
          "base_uri": "https://localhost:8080/"
        },
        "id": "dROU0Ef5UJx5",
        "outputId": "b3b3a99f-3392-4261-c818-ece355a2696a"
      },
      "execution_count": 3,
      "outputs": [
        {
          "output_type": "stream",
          "name": "stdout",
          "text": [
            "/content/GlobalMLBuildingFootprints\n"
          ]
        }
      ]
    },
    {
      "cell_type": "code",
      "source": [
        "!ls"
      ],
      "metadata": {
        "colab": {
          "base_uri": "https://localhost:8080/"
        },
        "id": "oddPrtV9URJr",
        "outputId": "20faa83c-9581-4680-fa36-b07a7958f2fa"
      },
      "execution_count": 4,
      "outputs": [
        {
          "output_type": "stream",
          "name": "stdout",
          "text": [
            "CODE_OF_CONDUCT.md  examples  images  LICENSE  README.md  scripts  SECURITY.md\tSUPPORT.md\n"
          ]
        }
      ]
    },
    {
      "cell_type": "code",
      "source": [
        "%cd scripts"
      ],
      "metadata": {
        "colab": {
          "base_uri": "https://localhost:8080/"
        },
        "id": "FfjQVJbCUZqg",
        "outputId": "a89b44e6-9b1a-4cb9-e3ad-e3c59eab77a9"
      },
      "execution_count": 5,
      "outputs": [
        {
          "output_type": "stream",
          "name": "stdout",
          "text": [
            "/content/GlobalMLBuildingFootprints/scripts\n"
          ]
        }
      ]
    },
    {
      "cell_type": "code",
      "source": [
        "!ls"
      ],
      "metadata": {
        "colab": {
          "base_uri": "https://localhost:8080/"
        },
        "id": "YXzWdaAUUdxz",
        "outputId": "662f8488-44ec-4e7d-acb7-71a4d09c81bc"
      },
      "execution_count": 6,
      "outputs": [
        {
          "output_type": "stream",
          "name": "stdout",
          "text": [
            "make-gis-friendly.ps1  make-gis-friendly.py  read-files.py\n"
          ]
        }
      ]
    },
    {
      "cell_type": "code",
      "source": [
        "!python make-gis-friendly.py"
      ],
      "metadata": {
        "id": "2nWuMUTwUw4V"
      },
      "execution_count": null,
      "outputs": []
    },
    {
      "cell_type": "code",
      "source": [
        "!python read-files.py"
      ],
      "metadata": {
        "colab": {
          "base_uri": "https://localhost:8080/"
        },
        "id": "rEDU53tFU-2A",
        "outputId": "88d83acc-7be5-4ecc-f819-3b3f4c323b97"
      },
      "execution_count": null,
      "outputs": [
        {
          "output_type": "stream",
          "name": "stdout",
          "text": [
            "Traceback (most recent call last):\n",
            "  File \"/content/GlobalMLBuildingFootprints/scripts/read-files.py\", line 81, in <module>\n",
            "    main()\n",
            "  File \"/content/GlobalMLBuildingFootprints/scripts/read-files.py\", line 13, in main\n",
            "    assert os.path.exists(input_file), f\"{input_file} not found!\"\n",
            "AssertionError: US.geojsonl not found!\n"
          ]
        }
      ]
    }
  ]
}